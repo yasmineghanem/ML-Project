{
 "cells": [
  {
   "cell_type": "markdown",
   "metadata": {},
   "source": [
    "### AdaBoost Classifier with SVC as Base (Weak) Classifier"
   ]
  },
  {
   "cell_type": "code",
   "execution_count": 1,
   "metadata": {},
   "outputs": [
    {
     "name": "stderr",
     "output_type": "stream",
     "text": [
      "Intel(R) Extension for Scikit-learn* enabled (https://github.com/intel/scikit-learn-intelex)\n"
     ]
    }
   ],
   "source": [
    "from sklearnex import patch_sklearn\n",
    "patch_sklearn()\n",
    "\n",
    "# IMPORTS\n",
    "import pandas as pd\n",
    "import numpy as np\n",
    "import matplotlib.pyplot as plt\n",
    "import seaborn as sns\n",
    "from utils import *\n",
    "import imblearn as imb\n",
    "\n",
    "# to ignore warnings\n",
    "import warnings\n",
    "warnings.filterwarnings('ignore')\n",
    "\n",
    "# for logging\n",
    "import logging\n",
    "logger = logging.getLogger('sklearnex')\n",
    "logger.setLevel(logging.INFO)\n",
    "\n",
    "# to split the data\n",
    "from sklearn.model_selection import train_test_split\n",
    "\n",
    "# Models\n",
    "from sklearn.ensemble import AdaBoostClassifier\n",
    "from sklearn.svm import SVC\n",
    "from custom_adaboost import *\n",
    "\n",
    "# cross validation\n",
    "from sklearn.model_selection import cross_val_score\n",
    "from sklearn.model_selection import StratifiedKFold\n",
    "\n",
    "# to evaluate the models\n",
    "from sklearn.metrics import accuracy_score, confusion_matrix, f1_score, classification_report\n",
    "from sklearn.model_selection import learning_curve\n",
    "from sklearn.metrics import roc_auc_score\n",
    "from sklearn.metrics import roc_curve\n",
    "\n",
    "\n",
    "# Some functions\n",
    "from utils import *"
   ]
  },
  {
   "cell_type": "markdown",
   "metadata": {},
   "source": [
    "### Read Dataset"
   ]
  },
  {
   "cell_type": "code",
   "execution_count": 2,
   "metadata": {},
   "outputs": [
    {
     "name": "stderr",
     "output_type": "stream",
     "text": [
      "INFO:sklearnex: sklearn.model_selection.train_test_split: running accelerated version on CPU\n",
      "INFO:sklearnex: sklearn.model_selection.train_test_split: running accelerated version on CPU\n",
      "INFO:sklearnex: sklearn.model_selection.train_test_split: running accelerated version on CPU\n",
      "INFO:sklearnex: sklearn.model_selection.train_test_split: running accelerated version on CPU\n"
     ]
    }
   ],
   "source": [
    "# Read the original dataset\n",
    "dataset = pd.read_csv('./dataset/final_dataset.csv')\n",
    "\n",
    "# separate the features and labels\n",
    "labels = dataset['Diabetes_binary']\n",
    "features = dataset.drop('Diabetes_binary', axis=1)\n",
    "\n",
    "x_train, x_test, y_train, y_test = train_test_split(features, labels, test_size=0.3, random_state=42)\n",
    "\n",
    "# Read the resampled dataset\n",
    "resampled_dataset = pd.read_csv('./dataset/resampled_dataset.csv')\n",
    "\n",
    "# separate the features and labels\n",
    "labels_resampled = resampled_dataset['Diabetes_binary']\n",
    "features_resampled = resampled_dataset.drop('Diabetes_binary', axis=1)\n",
    "\n",
    "x_train_resampled, x_test_resampled, y_train_resampled, y_test_resampled = train_test_split(features_resampled, labels_resampled, test_size=0.3, random_state=42)"
   ]
  },
  {
   "cell_type": "code",
   "execution_count": 3,
   "metadata": {},
   "outputs": [
    {
     "name": "stderr",
     "output_type": "stream",
     "text": [
      "INFO:sklearnex: sklearn.svm.SVC.fit: running accelerated version on CPU\n",
      "INFO:sklearnex: sklearn.utils.validation._assert_all_finite: fallback to original Scikit-learn\n",
      "INFO:sklearnex: sklearn.utils.validation._assert_all_finite: fallback to original Scikit-learn\n"
     ]
    }
   ],
   "source": [
    "# Tial 1: Try the SVC alone first\n",
    "svc = SVC(probability=True, kernel='linear', C=1.0, gamma='auto', random_state=42)\n",
    "\n",
    "# fit the model\n",
    "svc.fit(x_train, y_train)\n",
    "\n",
    "# predict the labels\n",
    "# y_predicted = svc.predict(x_test)\n",
    "\n",
    "# print(\"Test Accuracy:\", accuracy_score(y_test, y_predicted))"
   ]
  },
  {
   "cell_type": "code",
   "execution_count": 6,
   "metadata": {},
   "outputs": [],
   "source": [
    "# Trial 1: Simple AdaBoost with SVC as base classifier\n",
    "adaboost_svc = AdaBoostClassifier(estimator=SVC(probability=True), n_estimators=10, random_state=42)\n",
    "\n",
    "adaboost_svc.fit(x_train, y_train)\n",
    "\n",
    "y_predicted = adaboost_svc.predict(x_test)\n",
    "\n",
    "print(\"Test Accuracy:\", accuracy_score(y_test, y_predicted))"
   ]
  }
 ],
 "metadata": {
  "kernelspec": {
   "display_name": "Python 3",
   "language": "python",
   "name": "python3"
  },
  "language_info": {
   "codemirror_mode": {
    "name": "ipython",
    "version": 3
   },
   "file_extension": ".py",
   "mimetype": "text/x-python",
   "name": "python",
   "nbconvert_exporter": "python",
   "pygments_lexer": "ipython3",
   "version": "3.10.9"
  }
 },
 "nbformat": 4,
 "nbformat_minor": 2
}
